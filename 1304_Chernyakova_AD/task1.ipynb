{
 "cells": [
  {
   "cell_type": "markdown",
   "metadata": {},
   "source": [
    "# Практическая работа №1: Алгоритмы эффективного вычисления одночленов\n",
    "\n",
    "Выполнила студентка гр. 1304 Чернякова Александра. Вариант №24."
   ]
  },
  {
   "cell_type": "markdown",
   "metadata": {},
   "source": [
    "## Цель работы\n",
    "\n",
    "Сформировать знания о работе алгоритмах вычисления одночленов за минимальное число операций, привить навык использования систем компьютерной математики для реализации алгоритмов."
   ]
  },
  {
   "cell_type": "markdown",
   "metadata": {},
   "source": [
    "## Основные теоретические положения\n",
    "\n",
    "### Бинарный метод \"SX\"\n",
    "1. Необходимо записать степень в бинарном виде\n",
    "2. В бинарной записи отбросить старший бит\n",
    "3. Заменить двоичную запись на \"SX\"-последовательность: 1 заменяется на \"SX\", 0 заменяется на \"S\".\n",
    "4. Теперь \"S\" - это возведение в квадрат, \"X\" - умножение на x\n",
    "\n",
    "### Бинарный метод возведения в степень справа налево\n",
    "1. Инициализация начальными значениями: N = n (степень), Y = 1, Z = x\n",
    "2. Далее идет проверка на четность N:\n",
    "3. Если N - четное, то N делится на 2 и округляется вниз, Z = Z * Z и снова повторяется пункт 2\n",
    "4. Если N - нечетное, то N делится на 2 и округляется вниз, Y = Z * Y и происходит проверка на равенство N нулю:\n",
    "5. Если N = 0, то возвращается Y и алгоритм завершает работу\n",
    "6. Если N != 0, то  Z = Z * Z и снова повторяется пункт 2\n",
    "\n",
    "### Метод множителей\n",
    "1. Представляем n в виде произведения p и q, где p - наименьший простой делитель, а q не меньше 1. То есть x в степени n можно найти вычислив x в степени p, а затем возведя эту величину в степень q.\n",
    "2. Если n - простое число, то можно сначала вычислить x в степени n-1, а затем умножить его на x.\n",
    "3. При n = 1 получаем x , безо всяких вычислений.\n",
    "\n",
    "### Дерево степеней\n",
    "1. Пусть построен k-ый уровень деерва и необходимо построить (k+1)-ый уровень дерева.\n",
    "2. Берем каждый узел n на k-ом уровне слева направо и присоединяем к нему снизу узлы\n",
    "3. Порядок присоединения важен.\n",
    "4. Если какой-то узел уже появился ранее в дереве, то он устраняется.\n",
    "\n",
    "Дерево степеней, бинарный метод SX, бинарный метод R-L и метод множителей являются алгоритмами для быстрого возведения в степень. Они используются для того, чтобы минимизировать количество умножений, необходимых для возведения числа в степень."
   ]
  },
  {
   "cell_type": "markdown",
   "metadata": {},
   "source": [
    "## Постановка задачи\n",
    "\n",
    "Реализовать алгоритмы вычисления мономов за минимальное число операций с использованием системы компьютерной алгебры SageMath, провести анализ алгоритмов. Полученные результаты содержательно проинтерпретировать."
   ]
  },
  {
   "cell_type": "markdown",
   "metadata": {},
   "source": [
    "## Выполнение работы\n",
    "\n",
    "### Бинарный метод \"SX\"\n",
    "\n",
    "Реализация бинарного метода \"SX\" с подробными комментариями представлена ниже:"
   ]
  },
  {
   "cell_type": "code",
   "execution_count": 1,
   "metadata": {},
   "outputs": [],
   "source": [
    "def func_sx():\n",
    "    n = int(input())  # считывание степени x\n",
    "    bin_number = bin(n)  # представление степени в бинарном виде\n",
    "    bin_number = bin_number[3::]  # отбрасывание символов '0b', которые обозначают бинарный вид, и старшего бита\n",
    "    print(\"Binary: \", bin_number) # итоговый бинарный вид\n",
    "    sx_number = '' # заменяем бинарный вид в SX-вид (изначально пустая строка)\n",
    "    for i in range(len(bin_number)):  # заменяем 1 на SX, а 0 на S\n",
    "        sx_number += 'SX' if bin_number[i] == '1' else 'S'\n",
    "    print(\"SX: \", sx_number) # итоговая SX-последовательность\n",
    "    print(\"\")\n",
    "    deg = 1 # начальная степень x\n",
    "    iterations = 0 # количество итераций\n",
    "    print(x**1, end = ' ')  # вывод x до начала итераций\n",
    "    for i in range(len(sx_number)): # обход всей \"SX\"-последовательности\n",
    "        iterations += 1  # увеличение количества итераций на 1\n",
    "        deg = deg+deg if sx_number[i] == 'S' else deg+1 # если \"S\", то возводим в квадрат, если \"X\", то умножаем на x\n",
    "        print(x**deg, end = ' ') # вывод после каждой итерации\n",
    "    print('\\nTotal number of iterations:', iterations) # вывод итогового количества итераций"
   ]
  },
  {
   "cell_type": "markdown",
   "metadata": {},
   "source": [
    "### Бинарный метод возведения в степень справа налево\n",
    "Реализация метода с подробными комментариями представлена ниже:"
   ]
  },
  {
   "cell_type": "code",
   "execution_count": 2,
   "metadata": {},
   "outputs": [
    {
     "name": "stdout",
     "output_type": "stream",
     "text": [
      "Requirement already satisfied: prettytable in /Users/chernyakova.run/.sage/local/lib/python3.11/site-packages (3.6.0)\r\n",
      "Requirement already satisfied: wcwidth in /private/var/tmp/sage-9.8-current/local/var/lib/sage/venv-python3.11.1/lib/python3.11/site-packages (from prettytable) (0.2.5)\r\n"
     ]
    }
   ],
   "source": [
    "!pip install prettytable # установка библиотеки"
   ]
  },
  {
   "cell_type": "code",
   "execution_count": 3,
   "metadata": {},
   "outputs": [],
   "source": [
    "from prettytable import PrettyTable  # импортировние модуля таблицы для наглядного вывода\n",
    "def bin_func_r_l():\n",
    "    N = int(input())  # считывание степени x\n",
    "    # инициализаия\n",
    "    Y = 1\n",
    "    Z = x\n",
    "    i = 0 # счетчик столбцов таблицы\n",
    "    iterations = 0 # количество итераций\n",
    "    t = PrettyTable() # создание таблицы\n",
    "    t.field_names = [\"№ итерации\", \"Значение N\", \"Значение Y\", \"Значение Z\"] # заголовки кадого столбца таблицы\n",
    "    t.add_row([i, N, Y, Z]) # добавление первой строки с инициализорованными начальными значениями i, N, Y, Z\n",
    "    i += 1 # счетчик увеличивается на 1, так как первая строка таблицы заполнена\n",
    "    while True:\n",
    "        if N%2 == 0: # если N - четное\n",
    "            N = floor(N/2)\n",
    "            Z = Z * Z\n",
    "            iterations += 1 # увеличение количества итераций на 1\n",
    "        else: # если N - нечетное\n",
    "            N = floor(N/2)\n",
    "            Y = Z * Y\n",
    "            iterations += 1 # увеличение количества итераций на 1\n",
    "            if N != 0: # если N != 0\n",
    "                Z = Z * Z\n",
    "                iterations += 1 # увеличение количества итераций на 1\n",
    "            else: # если N = 0, то найдено Y и цикл заканчивает работу\n",
    "                t.add_row([i, N, Y, Z]) # добавление последней строки таблицы\n",
    "                break # выход из цикла\n",
    "        t.add_row([i, N, Y, Z]) # добавление строки таблицы после каждого обхода цикла\n",
    "        i += 1 # увеличение счетчика на 1\n",
    "    print(t.get_string()) # вывод таблицы\n",
    "    print('Total number of iterations:', iterations) # вывод итогового количества итераций"
   ]
  },
  {
   "cell_type": "markdown",
   "metadata": {},
   "source": [
    "Сравним два метода:"
   ]
  },
  {
   "cell_type": "code",
   "execution_count": 4,
   "metadata": {},
   "outputs": [
    {
     "name": "stdout",
     "output_type": "stream",
     "text": [
      "7\n",
      "Binary:  11\n",
      "SX:  SXSX\n",
      "\n",
      "x x^2 x^3 x^6 x^7 \n",
      "Total number of iterations: 4\n"
     ]
    }
   ],
   "source": [
    "func_sx()"
   ]
  },
  {
   "cell_type": "code",
   "execution_count": 5,
   "metadata": {},
   "outputs": [
    {
     "name": "stdout",
     "output_type": "stream",
     "text": [
      "7\n",
      "+------------+------------+------------+------------+\n",
      "| № итерации | Значение N | Значение Y | Значение Z |\n",
      "+------------+------------+------------+------------+\n",
      "|     0      |     7      |     1      |     x      |\n",
      "|     1      |     3      |     x      |    x^2     |\n",
      "|     2      |     1      |    x^3     |    x^4     |\n",
      "|     3      |     0      |    x^7     |    x^4     |\n",
      "+------------+------------+------------+------------+\n",
      "Total number of iterations: 5\n"
     ]
    }
   ],
   "source": [
    "bin_func_r_l()"
   ]
  },
  {
   "cell_type": "code",
   "execution_count": 6,
   "metadata": {},
   "outputs": [
    {
     "name": "stdout",
     "output_type": "stream",
     "text": [
      "23\n",
      "Binary:  0111\n",
      "SX:  SSXSXSX\n",
      "\n",
      "x x^2 x^4 x^5 x^10 x^11 x^22 x^23 \n",
      "Total number of iterations: 7\n"
     ]
    }
   ],
   "source": [
    "func_sx()"
   ]
  },
  {
   "cell_type": "code",
   "execution_count": 7,
   "metadata": {},
   "outputs": [
    {
     "name": "stdout",
     "output_type": "stream",
     "text": [
      "23\n",
      "+------------+------------+------------+------------+\n",
      "| № итерации | Значение N | Значение Y | Значение Z |\n",
      "+------------+------------+------------+------------+\n",
      "|     0      |     23     |     1      |     x      |\n",
      "|     1      |     11     |     x      |    x^2     |\n",
      "|     2      |     5      |    x^3     |    x^4     |\n",
      "|     3      |     2      |    x^7     |    x^8     |\n",
      "|     4      |     1      |    x^7     |    x^16    |\n",
      "|     5      |     0      |    x^23    |    x^16    |\n",
      "+------------+------------+------------+------------+\n",
      "Total number of iterations: 8\n"
     ]
    }
   ],
   "source": [
    "bin_func_r_l()"
   ]
  },
  {
   "cell_type": "code",
   "execution_count": 8,
   "metadata": {},
   "outputs": [
    {
     "name": "stdout",
     "output_type": "stream",
     "text": [
      "33\n",
      "Binary:  00001\n",
      "SX:  SSSSSX\n",
      "\n",
      "x x^2 x^4 x^8 x^16 x^32 x^33 \n",
      "Total number of iterations: 6\n"
     ]
    }
   ],
   "source": [
    "func_sx()"
   ]
  },
  {
   "cell_type": "code",
   "execution_count": 9,
   "metadata": {},
   "outputs": [
    {
     "name": "stdout",
     "output_type": "stream",
     "text": [
      "33\n",
      "+------------+------------+------------+------------+\n",
      "| № итерации | Значение N | Значение Y | Значение Z |\n",
      "+------------+------------+------------+------------+\n",
      "|     0      |     33     |     1      |     x      |\n",
      "|     1      |     16     |     x      |    x^2     |\n",
      "|     2      |     8      |     x      |    x^4     |\n",
      "|     3      |     4      |     x      |    x^8     |\n",
      "|     4      |     2      |     x      |    x^16    |\n",
      "|     5      |     1      |     x      |    x^32    |\n",
      "|     6      |     0      |    x^33    |    x^32    |\n",
      "+------------+------------+------------+------------+\n",
      "Total number of iterations: 7\n"
     ]
    }
   ],
   "source": [
    "bin_func_r_l()"
   ]
  },
  {
   "cell_type": "code",
   "execution_count": 10,
   "metadata": {},
   "outputs": [
    {
     "name": "stdout",
     "output_type": "stream",
     "text": [
      "123456789\n",
      "Binary:  11010110111100110100010101\n",
      "SX:  SXSXSSXSSXSXSSXSXSXSXSSSXSXSSXSSSSXSSXSSX\n",
      "\n",
      "x x^2 x^3 x^6 x^7 x^14 x^28 x^29 x^58 x^116 x^117 x^234 x^235 x^470 x^940 x^941 x^1882 x^1883 x^3766 x^3767 x^7534 x^7535 x^15070 x^30140 x^60280 x^60281 x^120562 x^120563 x^241126 x^482252 x^482253 x^964506 x^1929012 x^3858024 x^7716048 x^7716049 x^15432098 x^30864196 x^30864197 x^61728394 x^123456788 x^123456789 \n",
      "Total number of iterations: 41\n"
     ]
    }
   ],
   "source": [
    "func_sx()"
   ]
  },
  {
   "cell_type": "code",
   "execution_count": 11,
   "metadata": {},
   "outputs": [
    {
     "name": "stdout",
     "output_type": "stream",
     "text": [
      "123456789\n",
      "+------------+------------+-------------+------------+\n",
      "| № итерации | Значение N |  Значение Y | Значение Z |\n",
      "+------------+------------+-------------+------------+\n",
      "|     0      | 123456789  |      1      |     x      |\n",
      "|     1      |  61728394  |      x      |    x^2     |\n",
      "|     2      |  30864197  |      x      |    x^4     |\n",
      "|     3      |  15432098  |     x^5     |    x^8     |\n",
      "|     4      |  7716049   |     x^5     |    x^16    |\n",
      "|     5      |  3858024   |     x^21    |    x^32    |\n",
      "|     6      |  1929012   |     x^21    |    x^64    |\n",
      "|     7      |   964506   |     x^21    |   x^128    |\n",
      "|     8      |   482253   |     x^21    |   x^256    |\n",
      "|     9      |   241126   |    x^277    |   x^512    |\n",
      "|     10     |   120563   |    x^277    |   x^1024   |\n",
      "|     11     |   60281    |    x^1301   |   x^2048   |\n",
      "|     12     |   30140    |    x^3349   |   x^4096   |\n",
      "|     13     |   15070    |    x^3349   |   x^8192   |\n",
      "|     14     |    7535    |    x^3349   |  x^16384   |\n",
      "|     15     |    3767    |   x^19733   |  x^32768   |\n",
      "|     16     |    1883    |   x^52501   |  x^65536   |\n",
      "|     17     |    941     |   x^118037  |  x^131072  |\n",
      "|     18     |    470     |   x^249109  |  x^262144  |\n",
      "|     19     |    235     |   x^249109  |  x^524288  |\n",
      "|     20     |    117     |   x^773397  | x^1048576  |\n",
      "|     21     |     58     |  x^1821973  | x^2097152  |\n",
      "|     22     |     29     |  x^1821973  | x^4194304  |\n",
      "|     23     |     14     |  x^6016277  | x^8388608  |\n",
      "|     24     |     7      |  x^6016277  | x^16777216 |\n",
      "|     25     |     3      |  x^22793493 | x^33554432 |\n",
      "|     26     |     1      |  x^56347925 | x^67108864 |\n",
      "|     27     |     0      | x^123456789 | x^67108864 |\n",
      "+------------+------------+-------------+------------+\n",
      "Total number of iterations: 42\n"
     ]
    }
   ],
   "source": [
    "bin_func_r_l()"
   ]
  },
  {
   "cell_type": "markdown",
   "metadata": {},
   "source": [
    "Бинарный метод \"SX\" и метод возведения в степень справа-налево (R-L) являются двумя разными алгоритмами для быстрого возведения в степень числа, используя меньшее количество операций умножения, чем обычный подход, при котором число умножается на себя столько раз, сколько равно показателю степени.\n",
    "\n",
    "Однако бинарный метод \"SX\" обычно более эффективен и быстрее, чем метод R-L, потому что он использует двоичное представление, что ускоряет операции сдвига вправо и умножения. Метод R-L, с другой стороны, может быть более понятен и проще в реализации, но он обычно требует большего количества операций умножения: разница в количестве итераций представлена на числах 7, 23, 33, 123456789 (в кажом из примеров бинарный метод \"SX\" использовал меньшее количество итераций)\n",
    "\n",
    "Таким образом, если необходимо быстро вычислить степень числа, бинарный метод \"SX\" является более эффективным. Однако для небольших значений показателя степени, метод R-L может быть также достаточно эффективным."
   ]
  },
  {
   "cell_type": "markdown",
   "metadata": {},
   "source": [
    "### Метод множителей\n",
    "Реализация метода с подробными комментариями представлена ниже:"
   ]
  },
  {
   "cell_type": "code",
   "execution_count": 12,
   "metadata": {},
   "outputs": [],
   "source": [
    "def func_multiplier():\n",
    "    n = int(input())  # считывание степени x\n",
    "    print('Total number of iterations:', rec_func_multiplier(n)) # вывод итогового количества итераций\n",
    "    \n",
    "def rec_func_multiplier(n):\n",
    "    # рассмотрение частных случаев при n = 1, 2, 3, 4\n",
    "    if n == 1:\n",
    "        return 0\n",
    "    elif n == 2:\n",
    "        return 1\n",
    "    elif n==3 or n ==4:\n",
    "        return 2\n",
    "    elif is_prime(n): # если n - не частный случай и простое число, то нужно вычислить x^(n-1) и умножить на x^1\n",
    "        # степени x это переменные p и q\n",
    "        p =  n - 1\n",
    "        q = 1\n",
    "        iterations = 1 + rec_func_multiplier(p) + rec_func_multiplier(q) # рекурсивно вызываем функцию для каждого \n",
    "                                                                         # множителя и прибавляем 1 так как за итерацию \n",
    "                                                                         # считается и само произведение множителей\n",
    "    else: # если n - не частный случай и не простое число\n",
    "        f = factor(n) # раскладываем число на простые множители\n",
    "        p = f[0][0] # наименьший простой множитель n\n",
    "        q = n // p\n",
    "        iterations = rec_func_multiplier(p) + rec_func_multiplier(q) # рекурсивно вызываем функцию для каждого множителя\n",
    "    return iterations"
   ]
  },
  {
   "cell_type": "code",
   "execution_count": 13,
   "metadata": {},
   "outputs": [
    {
     "name": "stdout",
     "output_type": "stream",
     "text": [
      "7\n",
      "Total number of iterations: 4\n"
     ]
    }
   ],
   "source": [
    "func_multiplier()"
   ]
  },
  {
   "cell_type": "code",
   "execution_count": 14,
   "metadata": {},
   "outputs": [
    {
     "name": "stdout",
     "output_type": "stream",
     "text": [
      "23\n",
      "Total number of iterations: 7\n"
     ]
    }
   ],
   "source": [
    "func_multiplier()"
   ]
  },
  {
   "cell_type": "code",
   "execution_count": 15,
   "metadata": {},
   "outputs": [
    {
     "name": "stdout",
     "output_type": "stream",
     "text": [
      "33\n",
      "Total number of iterations: 7\n"
     ]
    }
   ],
   "source": [
    "func_multiplier()"
   ]
  },
  {
   "cell_type": "code",
   "execution_count": 16,
   "metadata": {},
   "outputs": [
    {
     "name": "stdout",
     "output_type": "stream",
     "text": [
      "123456789\n",
      "Total number of iterations: 37\n"
     ]
    }
   ],
   "source": [
    "func_multiplier()"
   ]
  },
  {
   "cell_type": "markdown",
   "metadata": {},
   "source": [
    "Основная идея метода множителей заключается в разложении степени на множители и последующем использовании меньших степеней для вычисления исходной степени. Это может уменьшить количество необходимых операций возведения в степень и тем самым ускорить процесс.\n",
    "\n",
    "Можно заметить из примеров, что бинарный метод SX и метод множителей совершают одинаковое число операций на небольших числах(таких как 7 и 23), однако уже на большом числе (123456789) метод множитлей выигрывает и совершает 37 операций, а бинарный метод SX совершает 41 операцию.\n",
    "\n",
    "С другой стороны, бинарный метод \"SX\" является более простыми алгоритмом, но он может быть неэффективными для возведения в степень больших чисел. Он требуют большего количества операций и может работать медленнее в сравнении с методом множителей.\n",
    "\n",
    "Таким образом, метод множителей является более оптимальным в случае, когда необходимо быстро вычислить степень большого числа. Однако в случае маленьких степеней бинарный метод \"SX\" может быть более эффективным - например, число 33; для возведения числа в данную степень бинарный метод \"SX\" совершает 6 итераций, а метод множителей 7."
   ]
  },
  {
   "cell_type": "markdown",
   "metadata": {},
   "source": [
    "### Дерево степеней\n",
    "Реализация с подробными комментариями представлена ниже:"
   ]
  },
  {
   "cell_type": "code",
   "execution_count": 21,
   "metadata": {},
   "outputs": [
    {
     "name": "stdout",
     "output_type": "stream",
     "text": [
      "Requirement already satisfied: graphviz in /Users/chernyakova.run/.sage/local/lib/python3.11/site-packages (0.20.1)\n",
      "Collecting nx\n",
      "  Downloading nx-0.0.0-py3-none-any.whl (1.3 kB)\n",
      "Installing collected packages: nx\n",
      "Successfully installed nx-0.0.0\n"
     ]
    }
   ],
   "source": [
    "!pip install graphviz # установкуи библиотек для наглядного представления дерева степеней\n",
    "!pip install nx"
   ]
  },
  {
   "cell_type": "code",
   "execution_count": 98,
   "metadata": {},
   "outputs": [
    {
     "name": "stdout",
     "output_type": "stream",
     "text": [
      "11\n"
     ]
    },
    {
     "data": {
      "image/png": "[encoded data removed]",
      "text/plain": [
       "Graphics object consisting of 42 graphics primitives"
      ]
     },
     "metadata": {},
     "output_type": "display_data"
    },
    {
     "name": "stdout",
     "output_type": "stream",
     "text": [
      "x x^2 x^3 x^5 x^10 x^11 \n",
      "Total number of iterations: 5\n"
     ]
    }
   ],
   "source": [
    "# библиотеки для демонстрации графа\n",
    "from sage.graphs.digraph import DiGraph\n",
    "import networkx as nx\n",
    "import matplotlib.pyplot as plt\n",
    "\n",
    "# 1 - создание графа\n",
    "\n",
    "class Node: # класс узла дерева\n",
    "    def __init__(self, parent): # инициализия при создании: на вход принимается родитель, массив детей изначально пуст\n",
    "        self.parent = parent\n",
    "        self.children = []\n",
    "\n",
    "    def get_parent(self): # возврат родителя\n",
    "        return self.parent\n",
    "\n",
    "    def get_children(self): # возврат списка детей\n",
    "        return self.children\n",
    "\n",
    "    def put_children(self, child): # добавление ребенка в список детей\n",
    "        return self.children.append(child)\n",
    "\n",
    "n = int(input()) # считывание степени, для которой строится дерево степеней\n",
    "graph = {} # создание словаря графа вида vertex : Node() - изначально пуст\n",
    "graph[1] = Node(0) # добавление в словарь первой вершины\n",
    "graph.get(1).put_children(2) # добавление детей для первой вершины\n",
    "graph[2] = Node(1) # добавление в словарь второй вершины\n",
    "i = 2 # вершина, с которой далее будет реализовываться алгоритм для создания графа(дерева)\n",
    "\n",
    "def func_tree(i): # функция добавления детей вершины i\n",
    "    global graph\n",
    "    arr_for_sum = [i] # массив для суммирования текущей вершины с предшествующими\n",
    "    cur = i # запоминаем вершину, из которой идет поиск детей\n",
    "    while i != 1: # пока не дойдем до начальной\n",
    "        arr_for_sum.append(graph.get(i).get_parent()) # добавляем родителя вершины\n",
    "        i = graph.get(i).get_parent() # родитель вершины становится текущей вершиной\n",
    "    for elem in reversed(arr_for_sum): # переворачиваем список, так как поиск детей должен начинаться с меньших к большему\n",
    "        if graph.get(elem + cur) is None: # если в графе нет такогй вершины\n",
    "            graph[elem + cur] = Node(cur) # добавляем вершину в граф\n",
    "            graph.get(cur).put_children(elem + cur) # добавляем эту вершину в список детей для cur\n",
    "            \n",
    "\n",
    "def rec_func_tree(array): # функция заполнения графа по уровням, принимает на вход массив вершин\n",
    "    if n in array: # если найдена степень, то выходим из функции\n",
    "        return\n",
    "    for child in array: # для всех вершин данного уровня (из массива array)\n",
    "        func_tree(child) # вызов функции добавления детей для каждой вершины \n",
    "    arr_level = [] # список для хранения всех детей -  получится новый уровень\n",
    "    for child in array: # для каждой вершины данного уровня\n",
    "        lst = graph.get(child).get_children() \n",
    "        arr_level.extend(lst) # добавление детей вершины в общий список детей\n",
    "    rec_func_tree(arr_level) # рекурсивный вызов функции для нового полученного уровня\n",
    "\n",
    "func_tree(i) # вызов функции добавления детей вершины 2\n",
    "children_array = graph.get(i).get_children() # создание массива детей вершины 2\n",
    "rec_func_tree(children_array) # вызов функции для построения всего графа\n",
    "\n",
    "\n",
    "# 2 - демонстрация графа\n",
    "\n",
    "graph_dict = {}\n",
    "for node in graph:\n",
    "    graph_dict[node] = [child for child in graph[node].get_children()]\n",
    "\n",
    "G = DiGraph(graph_dict)\n",
    "G.add_vertex(1)\n",
    "pos = G.graphplot(layout='tree', tree_root=1, vertex_size=200, vertex_labels=True)\n",
    "pos.show()\n",
    "\n",
    "# 3 - вывод итогового количества итераций\n",
    "\n",
    "# получаем массив степеней result с заданной вершины в начальную\n",
    "result = [n]\n",
    "while n != 1:\n",
    "    n =  graph.get(n).get_parent()\n",
    "    result.append(n)\n",
    "    \n",
    "iterations = -1 # изначально -1, так как в цикле ниже получение x посчитается за итерацию, но на самом деле с него начинаем\n",
    "for deg in reversed(result): # переворачиваем массив степеней, так как он был заполнен с конца\n",
    "    print(x**deg, end = ' ') # вывод после каждой итерации\n",
    "    iterations += 1\n",
    "print('\\nTotal number of iterations:', iterations) # вывод итогового количества итераций\n",
    "    "
   ]
  },
  {
   "cell_type": "markdown",
   "metadata": {},
   "source": [
    "## Выводы\n",
    "Ниже представлена табилица сравнения всех методов"
   ]
  },
  {
   "cell_type": "code",
   "execution_count": 101,
   "metadata": {},
   "outputs": [
    {
     "name": "stdout",
     "output_type": "stream",
     "text": [
      "+-----------+----+-----+------------+------+\n",
      "|  example  | SX | R-L | Multiplier | Tree |\n",
      "+-----------+----+-----+------------+------+\n",
      "|     7     | 4  |  5  |     4      |  4   |\n",
      "|     23    | 7  |  8  |     7      |  6   |\n",
      "|     33    | 6  |  7  |     7      |  6   |\n",
      "| 123456789 | 41 |  42 |     37     | long |\n",
      "+-----------+----+-----+------------+------+\n"
     ]
    }
   ],
   "source": [
    "table = PrettyTable() # создание таблицы для сравнения\n",
    "table.field_names = [\"example\", \"SX\", \"R-L\", \"Multiplier\", \"Tree\"] # заголовки каждого столбца таблицы\n",
    "# заполнение экспериментальных значений и их результатов для каждого рассмотренного метода\n",
    "table.add_row([7, 4, 5, 4, 4]) \n",
    "table.add_row([23, 7, 8, 7, 6]) \n",
    "table.add_row([33, 6, 7, 7, 6]) \n",
    "table.add_row([123456789, 41, 42, 37, \"long\"]) \n",
    "print(table.get_string()) # вывод таблицы"
   ]
  },
  {
   "cell_type": "markdown",
   "metadata": {},
   "source": [
    "Дерево степеней, бинарный метод SX, бинарный метод R-L и метод множителей являются алгоритмами для быстрого возведения в степень. Они используются для того, чтобы минимизировать количество умножений, необходимых для возведения числа в степень.\n",
    "\n",
    "Можно сделать вывод исходя из таблицы, что бинарный метод SX всегда превосходит бинарный метод возвведения в степень справа налево,то есть более эффективен и быстрее, чем метод R-L, потому что он использует двоичное представление, что ускоряет операции сдвига вправо и умножения. Однако для небольших значений показателя степени, метод R-L может быть также достаточно эффективным. Если сравнивать бинарный SX и метод множителей, то можно заметить, что они совершают одинаковое число операций на небольших числах(таких как 7 и 23), однако уже на большом числе (123456789) метод множителей выигрывает и совершает 37 операций, а бинарный метод SX совершает 41 операцию.\n",
    "Таким образом, метод множителей является более оптимальным в случае, когда необходимо быстро вычислить степень большого числа. Однако в случае маленьких степеней бинарный метод \"SX\" может быть и более эффективным - например, число 33; для возведения числа в данную степень бинарный метод \"SX\" совершает 6 итераций, а метод множителей 7. При сравнении дерева степеней со всеми методами можно сделать вывод, что он работает также или лучше на небольших степенях: 7, 23, 33, однако на больших степенях он работет неограниченно долго и не завершает свою работу при данной релизации алгоритма (пример большого числа: 123456789)."
   ]
  }
 ],
 "metadata": {
  "kernelspec": {
   "display_name": "SageMath 9.8",
   "language": "sage",
   "name": "sagemath-9.8"
  },
  "language_info": {
   "codemirror_mode": {
    "name": "ipython",
    "version": 3
   },
   "file_extension": ".py",
   "mimetype": "text/x-python",
   "name": "python",
   "nbconvert_exporter": "python",
   "pygments_lexer": "ipython3",
   "version": "3.11.1"
  }
 },
 "nbformat": 4,
 "nbformat_minor": 4
}
