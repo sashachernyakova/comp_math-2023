{
 "cells": [
  {
   "cell_type": "markdown",
   "metadata": {},
   "source": [
    "# Практическая работа №1: Алгоритмы эффективного вычисления одночленов\n",
    "\n",
    "Выполнил студент гр. 1304 Кривоченко Дмитрий. Вариант №38."
   ]
  },
  {
   "cell_type": "markdown",
   "metadata": {},
   "source": [
    "## Цель работы\n",
    "\n",
    "Сформировать знания о работе алгоритмах вычисления одночленов за\n",
    "минимальное число операций, привить навык использования систем ком-\n",
    "пьютерной математики для реализации алгоритмов."
   ]
  },
  {
   "cell_type": "markdown",
   "metadata": {},
   "source": [
    "## Основные теоретические положения\n",
    "\n",
    "Рассмотрим методы вычисления одночленов за минимальное число операций, а также приведём некоторые оценки количества операций для вычисления одночленов.<br>\n",
    "Введём понятия для оценки числа операций:<br>\n",
    "$\\lambda(n) = \\lfloor log_{2}(n) \\rfloor$ - уменьшенная на 1 длина бинарной записи n<br>\n",
    "$\\nu(n)$ - вес Хэмминга для бинарной записи числа $n$ (число единиц в бинарной записи)\n",
    "\n",
    "### Бинарный метод $SX$\n",
    "\n",
    "Далее представлен алгоритм для возведения в степень $n$ бинарным методом $SX$:\n",
    "<ol>\n",
    "<li>Представим $n$ в бинарном виде $n = (a_{m}, a_{m-1}, ..., a_{1})_{2}$, при том $a_{m} = 1$</li>\n",
    "<li>Отбросим старший бит</li>\n",
    "<li>Преобразуем запись $n:$<center>$a_{i} = 1 \\Rightarrow a_{i} = SX$<br>$a_{i} = 0 \\Rightarrow a_{i} = S$</center></li>\n",
    "<li>Выполняем вычисление: начинаем с $x$. Далее идём по преобразованной записи $n:$<center>$a_{i} = S \\Rightarrow x = x ^ 2$<br>$a_{i} = X \\Rightarrow x = x * x$</center></li>\n",
    "</ol>\n",
    "Число операций для бинарного метода $SX$ можно записать следующим образом: $\\lambda(n) + \\nu(n) - 1$\n",
    "    \n",
    "### Бинарный метод возведения справа налево \n",
    "Далее представлен алгоритм для возведения в степень $n$ (т. е. вычисления $x^n$) методом справа налево:\n",
    "<ol>\n",
    "    <li>На нулевой итерации поставим $N = n; Y = 1; Z = x$</li>\n",
    "    <li>Если $N$ чётно - переходим на пункт 3, иначе - на пункт 4</li>\n",
    "    <li>Переприсваиваем $N = \\lfloor N/2 \\rfloor; Z = Z * Z$; переходим на пункт 2</li>\n",
    "    <li>Переприсваиваем $N = \\lfloor N/2 \\rfloor; Y = Z * Y$</li>\n",
    "    <li>Если $N = 0$, то возвращаем $Y$ как ответ и выходим из алгоритма. Иначе - переприсваиваем $Z = Z * Z$ и переходим на пункт 2</li>\n",
    "</ol>\n",
    "Число операций для бинарного метода справа налево можно записать следующим образом: $\\lambda(n) + \\nu(n)$\n",
    "\n",
    "### Метод множителей\n",
    "Далее представлены шаги возведения в степень $n$ методом множителей:\n",
    "<ol>\n",
    "    <li>Представим $n$ в виде разложения $n = p * q$, где $p$ - наименьший простой множитель $n$, а $q > 1$. Таким образом, $x^n$ можно найти, вычислив $x^p$ и возведя эту величину в степень $q$</li>\n",
    "    <li>Если $n$ - простое, то вычислим $x^{n-1}$ и умножим его на x</li>\n",
    "    <li>При $n = 1$ - получим $x^n$</li>\n",
    "</ol>\n",
    "Следуя этим шагам можно раскладывать (тем самым вычисляя) $p$ на любом шаге, и в конце концов получить $x^n$\n",
    "\n",
    "### Дерево степеней\n",
    "Далее представлен алгоритм построения дерева степеней до $k$-го уровня:\n",
    "<ol>\n",
    "    <li>На нулевом уровне в дереве только один узел - $1$. Это корень дерева</li>\n",
    "    <li>$k+1$-й уровень строим так: берём каждый узел $i$ на $k$-м уровне слева направо и присоединяем узлы $i+a_{0}, i+a_{1}, ..., i+a_{k-1}$</li>\n",
    "    <li>При этом, если узел уже появлялся - он не добавляется</li>\n",
    "</ol>\n"
   ]
  },
  {
   "cell_type": "markdown",
   "metadata": {},
   "source": [
    "## Постановка задачи\n",
    "\n",
    "Реализовать алгоритмы вычисления мономов за минимальное число операций с использованием системы компьютерной алгебры SageMath, провести анализ алгоритмов. Полученные результаты содержательно проинтерпретировать."
   ]
  },
  {
   "cell_type": "markdown",
   "metadata": {},
   "source": [
    "## Выполнение работы\n",
    "\n",
    "### Бинарный метод SX\n",
    "Реализуем функцию $SxMethod$, принимающую на вход целочисленное значение, являющееся степенью, в которую нужно возвести переменную. Внутри функции значение степени записывается в двоичном виде, при этом обрезается старший бит. Далее, по алгоритму, единицы заменяются на $SX$, двойки - на $S$. Переменная $result$ будет хранить итоговое значение, которое мы получим в ходе итерации по преобразованной $SX$-строке. Для наглядности выведем $SX$-строку, а также значение $result$ на каждой итерации алгоритма в виде (номер итерации: значение $result$).\n"
   ]
  },
  {
   "cell_type": "code",
   "execution_count": 1,
   "metadata": {},
   "outputs": [],
   "source": [
    "def SxMethod(power):\n",
    "    if power < 1:\n",
    "        return 1\n",
    "    bin_power = str(bin(power))[3:]\n",
    "    sx_representation = bin_power.replace('1','SX').replace('0', 'S')\n",
    "    result = var('x')\n",
    "    show(sx_representation)\n",
    "    for i, elem in enumerate(sx_representation):\n",
    "        if elem == 'X':\n",
    "            result *= x\n",
    "        else:\n",
    "            result ^= 2\n",
    "        print(f\"({i + 1}: {result})\", end = ' ')\n",
    "    return result"
   ]
  },
  {
   "cell_type": "markdown",
   "metadata": {},
   "source": [
    "Приведём пример работы программы на нескольких $n$, а именно $33, 57, 13$: "
   ]
  },
  {
   "cell_type": "code",
   "execution_count": 2,
   "metadata": {},
   "outputs": [
    {
     "data": {
      "text/html": [
       "SSSSSX"
      ],
      "text/plain": [
       "'SSSSSX'"
      ]
     },
     "metadata": {},
     "output_type": "display_data"
    },
    {
     "name": "stdout",
     "output_type": "stream",
     "text": [
      "(1: x^2) (2: x^4) (3: x^8) (4: x^16) (5: x^32) (6: x^33) "
     ]
    },
    {
     "data": {
      "text/html": [
       "<html><script type=\"math/tex; mode=display\">\\newcommand{\\Bold}[1]{\\mathbf{#1}}x^{33}</script></html>"
      ],
      "text/latex": [
       "$$\\newcommand{\\Bold}[1]{\\mathbf{#1}}x^{33}$$"
      ],
      "text/plain": [
       "x^33"
      ]
     },
     "metadata": {},
     "output_type": "display_data"
    }
   ],
   "source": [
    "show(SxMethod(33))"
   ]
  },
  {
   "cell_type": "code",
   "execution_count": 3,
   "metadata": {},
   "outputs": [
    {
     "data": {
      "text/html": [
       "SXSXSSSX"
      ],
      "text/plain": [
       "'SXSXSSSX'"
      ]
     },
     "metadata": {},
     "output_type": "display_data"
    },
    {
     "name": "stdout",
     "output_type": "stream",
     "text": [
      "(1: x^2) (2: x^3) (3: x^6) (4: x^7) (5: x^14) (6: x^28) (7: x^56) (8: x^57) "
     ]
    },
    {
     "data": {
      "text/html": [
       "<html><script type=\"math/tex; mode=display\">\\newcommand{\\Bold}[1]{\\mathbf{#1}}x^{57}</script></html>"
      ],
      "text/latex": [
       "$$\\newcommand{\\Bold}[1]{\\mathbf{#1}}x^{57}$$"
      ],
      "text/plain": [
       "x^57"
      ]
     },
     "metadata": {},
     "output_type": "display_data"
    }
   ],
   "source": [
    "show(SxMethod(57))"
   ]
  },
  {
   "cell_type": "code",
   "execution_count": 4,
   "metadata": {
    "scrolled": true
   },
   "outputs": [
    {
     "data": {
      "text/html": [
       "SXSSX"
      ],
      "text/plain": [
       "'SXSSX'"
      ]
     },
     "metadata": {},
     "output_type": "display_data"
    },
    {
     "name": "stdout",
     "output_type": "stream",
     "text": [
      "(1: x^2) (2: x^3) (3: x^6) (4: x^12) (5: x^13) "
     ]
    },
    {
     "data": {
      "text/html": [
       "<html><script type=\"math/tex; mode=display\">\\newcommand{\\Bold}[1]{\\mathbf{#1}}x^{13}</script></html>"
      ],
      "text/latex": [
       "$$\\newcommand{\\Bold}[1]{\\mathbf{#1}}x^{13}$$"
      ],
      "text/plain": [
       "x^13"
      ]
     },
     "metadata": {},
     "output_type": "display_data"
    }
   ],
   "source": [
    "show(SxMethod(13))"
   ]
  },
  {
   "cell_type": "markdown",
   "metadata": {},
   "source": [
    "Проверим оценку числа операций для данных $n$:<br>\n",
    "$n = 33 \\Rightarrow \\lambda(n) = \\lfloor log_{2}(n) \\rfloor = 5; \\nu(n) = 2; \\lambda(n) + \\nu(n) - 1 = 6 \\Rightarrow$ Верно<br>\n",
    "$n = 57 \\Rightarrow \\lambda(n) = \\lfloor log_{2}(n) \\rfloor = 5; \\nu(n) = 4; \\lambda(n) + \\nu(n) - 1 = 8 \\Rightarrow$ Верно<br>\n",
    "$n = 13 \\Rightarrow \\lambda(n) = \\lfloor log_{2}(n) \\rfloor = 3; \\nu(n) = 3; \\lambda(n) + \\nu(n) - 1 = 5 \\Rightarrow$ Верно<br>\n",
    "Можно сделать вывод, что для наших $n$ формула для вычисления количества операций корректна.\n",
    "#### Вывод\n",
    "Таким образом, реализован бинарный метод $SX$, проверена его работоспособность и оценка числа операций из теоретического положения. Метод является простым для реализации и понимания, при этом позволяет быстро вычислить одночлен. Также, благодаря оценке можно легко узнать, за сколько итераций будет произведён расчёт (ввиду того, что на каждой итерации только одна операция)."
   ]
  },
  {
   "cell_type": "markdown",
   "metadata": {},
   "source": [
    "### 2. Метод возведения справа налево"
   ]
  },
  {
   "cell_type": "markdown",
   "metadata": {},
   "source": [
    "Реализуем функцию $RightToLeftMethod$, принимающую на вход целочисленное значение, являющееся степенью, в которую нужно возвести переменную. Внутри функции реализована инициализация нулевой итерации из теоретического положения (пункт 1), а также основной алгоритм (пункты 2 - 5). Реализована возможность вывода промежуточных значений $N, Y, Z$ (путём передачи в функцию помимо степени значения $True$ вторым аргументом)."
   ]
  },
  {
   "cell_type": "code",
   "execution_count": 5,
   "metadata": {},
   "outputs": [],
   "source": [
    "def RightToLeftMethod(power, intermediateInfo = False):\n",
    "    it_counter = 0\n",
    "    N = power\n",
    "    Y = 1\n",
    "    Z = var('x')\n",
    "    while True:\n",
    "        if N % 2 == 0:\n",
    "            N = floor(N / 2)\n",
    "            Z = Z * Z\n",
    "        else:\n",
    "            N = floor(N / 2)\n",
    "            Y = Z * Y\n",
    "            if (N == 0):\n",
    "                it_counter += 1\n",
    "                break\n",
    "            else:\n",
    "                Z = Z * Z\n",
    "        it_counter += 1\n",
    "        if (intermediateInfo): print(f\"iteration: {it_counter}\\nN: {N}\\nY: {Y}\\nZ: {Z}\\n\")\n",
    "    if (intermediateInfo): print(f\"iteration: {it_counter}\\nN: {N}\\nY: {Y}\\nZ: {Z}\\n\")\n",
    "    return Y"
   ]
  },
  {
   "cell_type": "markdown",
   "metadata": {},
   "source": [
    "Приведём пример работы программы на нескольких $n$, а именно $33, 57, 13$. Для каждого $n$ выведем результат в виде таблицы.: "
   ]
  },
  {
   "cell_type": "code",
   "execution_count": 6,
   "metadata": {
    "scrolled": true
   },
   "outputs": [
    {
     "data": {
      "text/html": [
       "<html><script type=\"math/tex; mode=display\">\\newcommand{\\Bold}[1]{\\mathbf{#1}}x^{33}</script></html>"
      ],
      "text/latex": [
       "$$\\newcommand{\\Bold}[1]{\\mathbf{#1}}x^{33}$$"
      ],
      "text/plain": [
       "x^33"
      ]
     },
     "metadata": {},
     "output_type": "display_data"
    }
   ],
   "source": [
    "show(RightToLeftMethod(33))"
   ]
  },
  {
   "cell_type": "markdown",
   "metadata": {},
   "source": [
    "##### Листинг работы алгоритма для n = 33:"
   ]
  },
  {
   "cell_type": "markdown",
   "metadata": {},
   "source": [
    "\n",
    "| № итерации | Значение N | Значение Y | Значение Z |\n",
    "|:----------:|:----------:|:----------:|:----------:|\n",
    "|      0     |     33     |      1     |      $x$     |\n",
    "|      1     |     16     |      $x$     |    $x^2$   |\n",
    "|      2     |      8     |      $x$     |     $x^4$    |\n",
    "|      3     |      4     |      $x$     |     $x^8$    |\n",
    "|      4     |      2     |      $x$     |    $x^{16}$    |\n",
    "|      5     |      1     |      $x$     |    $x^{32}$    |\n",
    "|      6     |      0     |    $x^{33}$    |    $x^{32}$    |"
   ]
  },
  {
   "cell_type": "code",
   "execution_count": 7,
   "metadata": {
    "scrolled": true
   },
   "outputs": [
    {
     "data": {
      "text/html": [
       "<html><script type=\"math/tex; mode=display\">\\newcommand{\\Bold}[1]{\\mathbf{#1}}x^{57}</script></html>"
      ],
      "text/latex": [
       "$$\\newcommand{\\Bold}[1]{\\mathbf{#1}}x^{57}$$"
      ],
      "text/plain": [
       "x^57"
      ]
     },
     "metadata": {},
     "output_type": "display_data"
    }
   ],
   "source": [
    "show(RightToLeftMethod(57))"
   ]
  },
  {
   "cell_type": "markdown",
   "metadata": {},
   "source": [
    "##### Листинг работы алгоритма для n = 57:"
   ]
  },
  {
   "cell_type": "markdown",
   "metadata": {},
   "source": [
    "| № итерации | Значение N | Значение Y | Значение Z |\n",
    "|:----------:|:----------:|:----------:|:----------:|\n",
    "|      0     |     57     |      1     |     $x$    |\n",
    "|      1     |     28     |     $x$    |    $x^2$    |\n",
    "|      2     |     14     |     $x$    |    $x^4$   |\n",
    "|      3     |      7     |     $x$    |    $x^8$   |\n",
    "|      4     |      3     |    $x^9$   |  $x^{16}$  |\n",
    "|      5     |      1     |  $x^{25}$  |  $x^{32}$  |\n",
    "|      6     |      0     |  $x^{57}$  |  $ x^{32}$ |"
   ]
  },
  {
   "cell_type": "code",
   "execution_count": 8,
   "metadata": {},
   "outputs": [
    {
     "data": {
      "text/html": [
       "<html><script type=\"math/tex; mode=display\">\\newcommand{\\Bold}[1]{\\mathbf{#1}}x^{13}</script></html>"
      ],
      "text/latex": [
       "$$\\newcommand{\\Bold}[1]{\\mathbf{#1}}x^{13}$$"
      ],
      "text/plain": [
       "x^13"
      ]
     },
     "metadata": {},
     "output_type": "display_data"
    }
   ],
   "source": [
    "show(RightToLeftMethod(13))"
   ]
  },
  {
   "cell_type": "markdown",
   "metadata": {},
   "source": [
    "##### Листинг работы алгоритма для n = 13:"
   ]
  },
  {
   "cell_type": "markdown",
   "metadata": {},
   "source": [
    "| № итерации | Значение N | Значение Y | Значение Z |\n",
    "|:----------:|:----------:|:----------:|:----------:|\n",
    "|      0     |     13     |      1     |     $x$    |\n",
    "|      1     |      6     |     $x$    |    $x^2$    |\n",
    "|      2     |      3     |     $x$    |    $x^4$   |\n",
    "|      3     |      1     |    $x^5$   |    $x^8$   |\n",
    "|      4     |      0     |  $x^{13}$  |   $x^{8}$  |"
   ]
  },
  {
   "cell_type": "markdown",
   "metadata": {},
   "source": [
    "Проверим оценку числа операций для данных $n$:<br>\n",
    "$n = 33 \\Rightarrow \\lambda(n) = \\lfloor log_{2}(n) \\rfloor = 5; \\nu(n) = 2; \\lambda(n) + \\nu(n)  = 7 \\Rightarrow$ Верно<br>\n",
    "$n = 57 \\Rightarrow \\lambda(n) = \\lfloor log_{2}(n) \\rfloor = 5; \\nu(n) = 4; \\lambda(n) + \\nu(n)  = 9 \\Rightarrow$ Верно<br>\n",
    "$n = 13 \\Rightarrow \\lambda(n) = \\lfloor log_{2}(n) \\rfloor = 3; \\nu(n) = 3; \\lambda(n) + \\nu(n)  = 6 \\Rightarrow$ Верно<br>\n",
    "Можно сделать вывод, что для наших $n$ формула для вычисления количества операций корректна.\n",
    "#### Вывод\n",
    "Таким образом, реализован бинарный метод возведения справа налево, проверена его работоспособность и оценка числа операций из теоретического положения. Метод является менее простым для понимания, нежели метод возведения $SX$, а также требует на одну операцию больше, что подтверждено на практике. При этом легко можно вычислить число операций для данного метода по формуле $\\lambda(n) + \\nu(n)$. В общем случае после завершения алгоритма значение $Z$ будет равно $x^{2^{k-2}}$, где $k$ - число итераций метода."
   ]
  },
  {
   "cell_type": "markdown",
   "metadata": {},
   "source": [
    "### 3. Сравнение бинарного метода \"SX\" и метод возведения справа налево"
   ]
  },
  {
   "cell_type": "markdown",
   "metadata": {},
   "source": [
    "Исходя из оценки, число операций в методе справа налево больше, чем в методе $SX$. Число итераций в методе справа налево можно оценить как $\\lfloor log_{2}(n) \\rfloor + 2$. В методе $SX$ же число итераций равно $\\lambda(n) + \\nu(n) - 1$.\n",
    "Таким образом, бинарный метод $SX$ выгоднее возведения справа налево."
   ]
  },
  {
   "cell_type": "markdown",
   "metadata": {},
   "source": [
    "### 4. Метод множителей"
   ]
  },
  {
   "cell_type": "markdown",
   "metadata": {},
   "source": [
    "Выполним метод множителей вручную для $n= 33, n = 57, n = 13$ по алгоритму, приведённому в теоретическом положении.<br>"
   ]
  },
  {
   "cell_type": "markdown",
   "metadata": {},
   "source": [
    "#### Метод множителей для n = 33:\n",
    "$x^{33} = (x^{3})^{11}$<br>\n",
    "$(x^{3})^{11} = x^{3} * (x^{3})^{10}$<br>\n",
    "$(x^{3})^{10} = ((x^{3})^{2})^{5}$<br>\n",
    "Рассчитаем нужные значения.<br>\n",
    "$x^3 \\rightarrow x, x^2, x^3$ (2 операции)<br>\n",
    "$(x^3)^2 \\rightarrow x^3, (x^3)^2$ (+1 операция)<br>\n",
    "$(x^{3})^{10} = (((x^3))^2)^5 \\rightarrow ((x^3))^2, (((x^3))^2)^2, (((x^3))^2)^4, (((x^3))^2)^5$ (+3 операции)<br>\n",
    "$x^{33} = (x^{3})^{11} \\rightarrow (x^{3})^{10}, (x^{3})^{11}$ (+1 операция)<br>\n",
    "Итого 7 операций. Из этого примера видно, что метод множителей может быть хуже метода $SX$ (там для $n=33$ было 6 операций)."
   ]
  },
  {
   "cell_type": "markdown",
   "metadata": {},
   "source": [
    "#### Метод множителей для n = 57\n",
    "$x^{57} = (x^{3})^{19}$<br>\n",
    "$(x^{3})^{19} = x^{3} * (x^{3})^{18}$<br>\n",
    "$(x^{3})^{18} = ((x^{3})^{2})^{9}$<br>\n",
    "$((x^{3})^{2})^{9} = (((x^{3})^{2})^{3})^{3}$<br>\n",
    "Рассчитаем нужные значения<br>\n",
    "$x^3 \\rightarrow x, x^2, x^3$ (2 операции)<br>\n",
    "$(x^3)^2 \\rightarrow x^3, (x^3)^2$ (+1 операция)<br>\n",
    "$((x^3)^2)^3 \\rightarrow (x^3)^2, ((x^3)^2)^2, ((x^3)^2)^3$ (+2 операции)<br>\n",
    "$(x^3)^{18} = (((x^3)^2)^3)^3 \\rightarrow ((x^3)^2)^3, (((x^3)^2)^3)^2, (((x^3)^2)^3)^3$ (+2 операции)<br>\n",
    "$x^{57}=(x^3)^{19} \\rightarrow (x^3)^{18}, (x^3)^{19}$ (+1 операция)<br>\n",
    "Итого 8 операций."
   ]
  },
  {
   "cell_type": "markdown",
   "metadata": {},
   "source": [
    "#### Метод множителей для n = 13\n",
    "$x^{13} = x * x^{12}$<br>\n",
    "$x^{12} = (x^2)^6$<br>\n",
    "$(x^2)^6 = ((x^2)^2)^3$<br>\n",
    "Рассчитаем нужные значения<br>\n",
    "$x^2 \\rightarrow x, x^2$ (1 операция)<br>\n",
    "$(x^2)^2 \\rightarrow x^2, (x^2)^2$ (+1 операция)<br>\n",
    "$x^{12} = ((x^2)^2)^3 = (x^2)^2, ((x^2)^2)^2, ((x^2)^2)^3$ (+2 операция)<br>\n",
    "$x^{13} = x^{12} * x$ (+1 операция)<br>\n",
    "Итого 5 операций."
   ]
  },
  {
   "cell_type": "markdown",
   "metadata": {},
   "source": [
    "Также рассмотрим $n=15$, при котором метод множителей быстрее $SX$."
   ]
  },
  {
   "cell_type": "markdown",
   "metadata": {},
   "source": [
    "$x^{15} = (x^3)^5$\n",
    "$x^{5} = x * x^4$\n",
    "Рассчитаем нужные значения\n",
    "$x^2 \\rightarrow x, x^2, x^3$ (2 операции)<br>\n",
    "$x^4 \\rightarrow x, x^2, x^4$ (+2 операция)<br>\n",
    "$x^5 \\rightarrow x^4, x^5$ (+1 операция)<br>\n",
    "Итого 5 операций (против 6 у метода $SX$)<br>\n",
    "#### Вывод\n",
    "Таким образом, рассмотрен метод множителей для нескольких $n$. Его преимущество заключается в наглядности и простоте идеи, возможности легко посчитать число операций для возведения числа в степень \"руками\". Помимо этого, метод множителей может быть быстрее, чем бинарный (например, для $n=15$). Его минус - в сложности реализации (скорее всего придётся применять рекурсию). Также он иногда проигрывает другим методам (тому же бинарному при $n=33$)."
   ]
  },
  {
   "cell_type": "markdown",
   "metadata": {},
   "source": [
    "### 5. Построение дерева степеней"
   ]
  },
  {
   "cell_type": "markdown",
   "metadata": {},
   "source": [
    "Реализуем алгоритм построения дерева «дерева степеней» ($buildTree$) до заданного уровня $k$. Для хранения структуры дерева используем словарь вида {узел: список родителей}. Перебирая уровни от $0$ до $k$, просматриваем все возможные новые элементы, которые можно вставить на следующий уровень. Если элемента нет в дереве, то вставляем его. С помощью $getPathToNode$ строим цепочку от 0-го узла до рассматриваемого."
   ]
  },
  {
   "cell_type": "code",
   "execution_count": 9,
   "metadata": {},
   "outputs": [],
   "source": [
    "def GetPathToNode(tree, node):\n",
    "    chain = [node]\n",
    "    while node != 1:\n",
    "        node = tree[node][0]\n",
    "        chain.append(node)\n",
    "    return chain[::-1]\n",
    "\n",
    "def BuildTree(level):\n",
    "    tree = {1:[]} \n",
    "    cur_level_nodes = [1]\n",
    "    for cur_level in range(level):\n",
    "        next_level_nodes = []\n",
    "        for parent in cur_level_nodes:\n",
    "            for elem_in_chain in GetPathToNode(tree, parent):\n",
    "                potential_child = parent + elem_in_chain\n",
    "                if potential_child not in tree:\n",
    "                    tree[potential_child] = [parent]\n",
    "                    next_level_nodes.append(potential_child)\n",
    "        cur_level_nodes = next_level_nodes\n",
    "    d2 = {}\n",
    "    return tree"
   ]
  },
  {
   "cell_type": "markdown",
   "metadata": {},
   "source": [
    "<br> С помощью $getEdgesToNode$ строим список кортежей-рёбер графа, благодаря которому можем выделить цветом путь от вершины дерева до заданного числа n."
   ]
  },
  {
   "cell_type": "code",
   "execution_count": 10,
   "metadata": {},
   "outputs": [],
   "source": [
    "def GetEdgesToNode(tree, node):\n",
    "    chain = GetPathToNode(tree, node)\n",
    "    result = []\n",
    "    for i in range(len(chain)-1):\n",
    "        result.append((chain[i], chain[i+1]))\n",
    "    return result"
   ]
  },
  {
   "cell_type": "markdown",
   "metadata": {},
   "source": [
    "<br> С помощью $printTree$ отображаем дерево и путь до вершины $node$, если таковая есть."
   ]
  },
  {
   "cell_type": "code",
   "execution_count": 11,
   "metadata": {},
   "outputs": [],
   "source": [
    "def PrintTree(tree, node = None):\n",
    "    outputGraph = Graph(tree)\n",
    "    if node not in tree:\n",
    "        node = 1\n",
    "    P = outputGraph.plot(layout = 'tree', tree_root = 1, vertex_color = 'lightblue', by_component = True,\n",
    "                         edge_colors={(1, 0, 0): GetEdgesToNode(tree, node)})\n",
    "    P.show()"
   ]
  },
  {
   "cell_type": "markdown",
   "metadata": {},
   "source": [
    "Продемонстрируем работу программы. Построим дерево до 6-го уровня и выделим путь до вершины $n=33$:"
   ]
  },
  {
   "cell_type": "code",
   "execution_count": 12,
   "metadata": {},
   "outputs": [
    {
     "data": {
      "image/png": "[encoded data removed]",
      "text/plain": [
       "Graphics object consisting of 72 graphics primitives"
      ]
     },
     "metadata": {},
     "output_type": "display_data"
    }
   ],
   "source": [
    "PrintTree(BuildTree(6), 33)"
   ]
  },
  {
   "cell_type": "markdown",
   "metadata": {},
   "source": [
    "Построим дерево до 5-го уровня и выделим путь до вершины $n = 9$:"
   ]
  },
  {
   "cell_type": "code",
   "execution_count": 13,
   "metadata": {},
   "outputs": [
    {
     "data": {
      "image/png": "[encoded data removed]",
      "text/plain": [
       "Graphics object consisting of 42 graphics primitives"
      ]
     },
     "metadata": {},
     "output_type": "display_data"
    }
   ],
   "source": [
    "PrintTree(BuildTree(5), 9)"
   ]
  },
  {
   "cell_type": "markdown",
   "metadata": {},
   "source": [
    "Получим цепочку вычисления $x^{33}$ с помощью дерева степеней:"
   ]
  },
  {
   "cell_type": "code",
   "execution_count": 14,
   "metadata": {
    "scrolled": true
   },
   "outputs": [
    {
     "data": {
      "text/plain": [
       "[1, 2, 4, 8, 16, 17, 33]"
      ]
     },
     "execution_count": 14,
     "metadata": {},
     "output_type": "execute_result"
    }
   ],
   "source": [
    "GetPathToNode(BuildTree(6), 33)"
   ]
  },
  {
   "cell_type": "markdown",
   "metadata": {},
   "source": [
    "Так, получили цепочку $x, x^2, x^4, x^8, x^{16}, x^{17}, x^{33}$."
   ]
  },
  {
   "cell_type": "markdown",
   "metadata": {},
   "source": [
    "Сравним данный метод с методом $SX$. Напишем функцию, возвращающую количество операций умножения для бинарного метода $SX$:"
   ]
  },
  {
   "cell_type": "code",
   "execution_count": 15,
   "metadata": {},
   "outputs": [],
   "source": [
    "def GetAmountOfOperationsSX(n):\n",
    "    return floor(log(n, 2)) + bin(n)[2:].count('1') - 1"
   ]
  },
  {
   "cell_type": "markdown",
   "metadata": {},
   "source": [
    "Для того, чтобы сравнить бинарный метод и дерево степеней, модифицируем функцию построения дерева (теперь учитываем, что есть конкретное число $n$, до которого нужно посчитать количество шагов). Добавим счётчик количества умножений и флаг, обрывающий выполнение перебора, если $n$ найдено:"
   ]
  },
  {
   "cell_type": "code",
   "execution_count": 16,
   "metadata": {},
   "outputs": [],
   "source": [
    "def BuildTreeAndGetOpsAmount(nodeToFind):\n",
    "    operationCounter = 0\n",
    "    nodeFound = False\n",
    "    tree = {1:[]} \n",
    "    cur_level_nodes = [1]\n",
    "    while nodeFound is False:\n",
    "        operationCounter += 1\n",
    "        next_level_nodes = []\n",
    "        for parent in cur_level_nodes:\n",
    "            for elem_in_chain in GetPathToNode(tree, parent):\n",
    "                potential_child = parent + elem_in_chain\n",
    "                if potential_child == nodeToFind:\n",
    "                    nodeFound = True\n",
    "                if potential_child not in tree:\n",
    "                    tree[potential_child] = [parent]\n",
    "                    next_level_nodes.append(potential_child)\n",
    "        cur_level_nodes = next_level_nodes\n",
    "    return operationCounter"
   ]
  },
  {
   "cell_type": "markdown",
   "metadata": {},
   "source": [
    "Утверждаем, что дерево степеней не проигрывает бинарному методу (проверим до $n = 5000$)."
   ]
  },
  {
   "cell_type": "code",
   "execution_count": 17,
   "metadata": {},
   "outputs": [
    {
     "data": {
      "text/html": [
       "Утверждение корректно!"
      ],
      "text/plain": [
       "'Утверждение корректно!'"
      ]
     },
     "metadata": {},
     "output_type": "display_data"
    }
   ],
   "source": [
    "allGoodFlag = True\n",
    "for n in range(2, 5000):\n",
    "    if GetAmountOfOperationsSX(n) < BuildTreeAndGetOpsAmount(n):\n",
    "        allGoodFlag = False\n",
    "        break\n",
    "if allGoodFlag: show(\"Утверждение корректно!\")\n",
    "else: show(\"Всё плохо!\")"
   ]
  },
  {
   "cell_type": "markdown",
   "metadata": {},
   "source": [
    "#### Вывод\n",
    "Таким образом, реализован алгоритм \"дерева степеней\". Получилось отобразить дерево средствами *SageMath* до заданного уровня *k*, выделить цветом путь от вершины дерева до заданного числа *n*. В результате сравнения данного метода с бинарным $SX$ - получили, что дерево степеней ему не проигрывает (а следовательно выигрывает метод справа налево). Помимо этого, дерево степеней лучше метода множителей (лучше относительно использованного количества умножений)."
   ]
  },
  {
   "cell_type": "markdown",
   "metadata": {},
   "source": [
    "### 6. Изменённое дерево степеней"
   ]
  },
  {
   "cell_type": "markdown",
   "metadata": {},
   "source": [
    "Внесём незначительные изменения в определение дерева степеней. Сделаем так, чтобы узлы, расположенные ниже узла $i$ присоединялись в порядке убывания:<br>\n",
    "$i+a_{k-1}, ..., i+a_{1},i+a_{0}$<br>\n",
    "Получится дерево убывающих степеней. Модифицируем функцию получения узлов, расположенных ниже $i$, чтобы она отвечала условию выше:"
   ]
  },
  {
   "cell_type": "code",
   "execution_count": 18,
   "metadata": {},
   "outputs": [],
   "source": [
    "def GetPathToNode(tree, node):\n",
    "    chain = [node]\n",
    "    while node != 1:\n",
    "        node = tree[node][0]\n",
    "        chain.append(node)\n",
    "    return chain"
   ]
  },
  {
   "cell_type": "markdown",
   "metadata": {},
   "source": [
    "Продемонстрируем работу программы. Построим дерево до 6-го уровня и выделим путь до вершины $n=33$:"
   ]
  },
  {
   "cell_type": "code",
   "execution_count": 19,
   "metadata": {
    "scrolled": true
   },
   "outputs": [
    {
     "data": {
      "image/png": "[encoded data removed]",
      "text/plain": [
       "Graphics object consisting of 66 graphics primitives"
      ]
     },
     "metadata": {},
     "output_type": "display_data"
    }
   ],
   "source": [
    "PrintTree(BuildTree(6), 33)"
   ]
  },
  {
   "cell_type": "markdown",
   "metadata": {},
   "source": [
    "Построим дерево до 5-го уровня и выделим путь до вершины $n = 9$:"
   ]
  },
  {
   "cell_type": "code",
   "execution_count": 20,
   "metadata": {
    "scrolled": true
   },
   "outputs": [
    {
     "data": {
      "image/png": "[encoded data removed]",
      "text/plain": [
       "Graphics object consisting of 40 graphics primitives"
      ]
     },
     "metadata": {},
     "output_type": "display_data"
    }
   ],
   "source": [
    "PrintTree(BuildTree(5), 9)"
   ]
  },
  {
   "cell_type": "markdown",
   "metadata": {},
   "source": [
    "Покажем на практике, что изменённое дерево затрачивает столько же операций умножений, сколько и бинарный метод (проверим до $n = 5000)$:"
   ]
  },
  {
   "cell_type": "code",
   "execution_count": 21,
   "metadata": {},
   "outputs": [
    {
     "data": {
      "text/html": [
       "Утверждение корректно!"
      ],
      "text/plain": [
       "'Утверждение корректно!'"
      ]
     },
     "metadata": {},
     "output_type": "display_data"
    }
   ],
   "source": [
    "allGoodFlag = True\n",
    "for n in range(2, 5000):\n",
    "    if GetAmountOfOperationsSX(n) != BuildTreeAndGetOpsAmount(n):\n",
    "        allGoodFlag = False\n",
    "        break\n",
    "if allGoodFlag: show(\"Утверждение корректно!\")\n",
    "else: show(\"Всё плохо!\")"
   ]
  },
  {
   "cell_type": "markdown",
   "metadata": {},
   "source": [
    "## Выводы\n",
    "\n",
    "Сформированы знания о работе алгоритмов вычисления одночленов за минимальное число операций, привит навык использования системы компьютерной алгебры *SageMath* для реализации алгоритмов.<br>\n",
    "Реализован бинарный метод $SX$, бинарный метод возведения в степень справа налево, рассмотрен метод множителей и реализован алгоритм \"дерева степеней\". Алгоритмы проверены на работоспособность, произведено сравнение с теоретическими положениями.<br>\n",
    "Реализовано дерево убывающих степеней, произведено сравнение с бинарным методом $SX$.<br>"
   ]
  }
 ],
 "metadata": {
  "kernelspec": {
   "display_name": "SageMath 9.3",
   "language": "sage",
   "name": "sagemath"
  },
  "language_info": {
   "codemirror_mode": {
    "name": "ipython",
    "version": 3
   },
   "file_extension": ".py",
   "mimetype": "text/x-python",
   "name": "python",
   "nbconvert_exporter": "python",
   "pygments_lexer": "ipython3",
   "version": "3.7.10"
  }
 },
 "nbformat": 4,
 "nbformat_minor": 4
}
